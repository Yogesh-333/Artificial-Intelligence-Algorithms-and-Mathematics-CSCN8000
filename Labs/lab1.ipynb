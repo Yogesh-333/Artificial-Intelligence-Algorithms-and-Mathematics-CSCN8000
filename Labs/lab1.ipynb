{
 "cells": [
  {
   "cell_type": "markdown",
   "id": "c02d2638",
   "metadata": {},
   "source": [
    "### Part A"
   ]
  },
  {
   "cell_type": "code",
   "execution_count": 1,
   "id": "a0d41495",
   "metadata": {},
   "outputs": [],
   "source": [
    "import numpy as np"
   ]
  },
  {
   "cell_type": "markdown",
   "id": "c62128f5",
   "metadata": {},
   "source": [
    "### Array that starts from the integer 1, ends at 20, incremented by 3"
   ]
  },
  {
   "cell_type": "code",
   "execution_count": 2,
   "id": "50835558",
   "metadata": {},
   "outputs": [
    {
     "name": "stdout",
     "output_type": "stream",
     "text": [
      "[ 1  4  7 10 13 16 19]\n"
     ]
    }
   ],
   "source": [
    "array = np.arange(1, 21, 3)\n",
    "print(array)"
   ]
  },
  {
   "cell_type": "markdown",
   "id": "7f33afef",
   "metadata": {},
   "source": [
    "### A new array of shape 3 with random numbers between 0 and 1"
   ]
  },
  {
   "cell_type": "code",
   "execution_count": 3,
   "id": "bf4e9eac",
   "metadata": {},
   "outputs": [
    {
     "name": "stdout",
     "output_type": "stream",
     "text": [
      "[[0.23916503 0.44201514 0.19875736]]\n"
     ]
    }
   ],
   "source": [
    "random_array = np.random.rand(1,3)\n",
    "print(random_array)"
   ]
  },
  {
   "cell_type": "markdown",
   "id": "4283f796",
   "metadata": {},
   "source": [
    "### A 2 D array [[10,20,45], [30,12,16], [42,17,56]] and performs the following operations: \n",
    "         \n",
    "#### Slice the 2D array to get the first two rows, slice the 2D array to get the last two rows."
   ]
  },
  {
   "cell_type": "code",
   "execution_count": 4,
   "id": "290913e5",
   "metadata": {},
   "outputs": [
    {
     "name": "stdout",
     "output_type": "stream",
     "text": [
      "Original 2D Array:\n",
      " [[10 20 45]\n",
      " [30 12 16]\n",
      " [42 17 56]]\n",
      "\n",
      "First two rows:\n",
      " [[10 20 45]\n",
      " [30 12 16]]\n",
      "\n",
      "Last two rows:\n",
      " [[30 12 16]\n",
      " [42 17 56]]\n"
     ]
    }
   ],
   "source": [
    "# Create a 2D array\n",
    "array_2d = np.array([[10, 20, 45],\n",
    "                   [30, 12, 16],\n",
    "                   [42, 17, 56]])\n",
    "\n",
    "print(\"Original 2D Array:\\n\", array_2d)\n",
    "\n",
    "# Slice the 2D array to get the first two rows\n",
    "slice_first_two_rows = array_2d[:2, :]\n",
    "print(\"\\nFirst two rows:\\n\", slice_first_two_rows)\n",
    "\n",
    "# Slice the 2D array to get the last two rows\n",
    "slice_last_two_rows = array_2d[1:, :]\n",
    "print(\"\\nLast two rows:\\n\", slice_last_two_rows)"
   ]
  },
  {
   "cell_type": "markdown",
   "id": "5695a47d",
   "metadata": {},
   "source": [
    "###  Two 2x2 arrays and demonstrated how to stack the elements vertically, horizontally, and split the arrays into smaller arrays."
   ]
  },
  {
   "cell_type": "code",
   "execution_count": 5,
   "id": "a557e578",
   "metadata": {},
   "outputs": [
    {
     "name": "stdout",
     "output_type": "stream",
     "text": [
      "Array 1:\n",
      " [[1 2]\n",
      " [3 4]]\n",
      "Array 2:\n",
      " [[5 6]\n",
      " [7 8]]\n",
      "\n",
      "Vertically stacked array:\n",
      " [[1 2]\n",
      " [3 4]\n",
      " [5 6]\n",
      " [7 8]]\n",
      "\n",
      "Horizontally stacked array:\n",
      " [[1 2 5 6]\n",
      " [3 4 7 8]]\n",
      "\n",
      "Splitting vertically stacked array into two:\n",
      " [array([[1, 2],\n",
      "       [3, 4]]), array([[5, 6],\n",
      "       [7, 8]])]\n",
      "\n",
      "Splitting horizontally stacked array into two:\n",
      " [array([[1, 2],\n",
      "       [3, 4]]), array([[5, 6],\n",
      "       [7, 8]])]\n"
     ]
    }
   ],
   "source": [
    "# Two 2x2 arrays\n",
    "array1 = np.array([[1, 2],\n",
    "                 [3, 4]])\n",
    "\n",
    "array2 = np.array([[5, 6],\n",
    "                 [7, 8]])\n",
    "\n",
    "print(\"Array 1:\\n\", array1)\n",
    "print(\"Array 2:\\n\", array2)\n",
    "\n",
    "# Stack the elements vertically\n",
    "stacked_vertical = np.vstack((array1, array2))\n",
    "print(\"\\nVertically stacked array:\\n\", stacked_vertical)\n",
    "\n",
    "# Stack the elements horizontally\n",
    "stacked_horizontal = np.hstack((array1, array2))\n",
    "print(\"\\nHorizontally stacked array:\\n\", stacked_horizontal)\n",
    "\n",
    "# Split the vertically stacked array into two smaller arrays\n",
    "split_vertical_arrays = np.vsplit(stacked_vertical, 2)\n",
    "print(\"\\nSplitting vertically stacked array into two:\\n\", split_vertical_arrays)\n",
    "\n",
    "# Split the horizontally stacked array into two smaller arrays\n",
    "split_horizontal_arrays = np.hsplit(stacked_horizontal, 2)\n",
    "print(\"\\nSplitting horizontally stacked array into two:\\n\", split_horizontal_arrays)"
   ]
  },
  {
   "cell_type": "markdown",
   "id": "bfc4e29f",
   "metadata": {},
   "source": [
    "### multiply these matrices X= ([[5, 7, 2], [4, 5, 6], [7, 4 ,2]]) Y= ([[4, 2], [6, 2], [4, 2]])\n",
    "#### Demonstrated not possible multiply"
   ]
  },
  {
   "cell_type": "code",
   "execution_count": 6,
   "id": "7442caf9",
   "metadata": {},
   "outputs": [
    {
     "name": "stdout",
     "output_type": "stream",
     "text": [
      "Matrix X:\n",
      " [[5 7 2]\n",
      " [4 5 6]\n",
      " [7 4 2]]\n",
      "Shape of X: (3, 3)\n",
      "\n",
      "Matrix Y:\n",
      " [[4 2]\n",
      " [6 2]\n",
      " [4 2]]\n",
      "Shape of Y: (3, 2)\n",
      "Result of X @ Y:\n",
      " [[70 28]\n",
      " [70 30]\n",
      " [60 26]]\n",
      "\n",
      "Matrix Z:\n",
      " [[1 2]\n",
      " [3 4]]\n",
      "Shape of Z: (2, 2)\n",
      "Cannot perform X @ Z: matmul: Input operand 1 has a mismatch in its core dimension 0, with gufunc signature (n?,k),(k,m?)->(n?,m?) (size 2 is different from 3)\n"
     ]
    }
   ],
   "source": [
    "# Define matrices X and Y\n",
    "X = np.array([[5, 7, 2],\n",
    "              [4, 5, 6],\n",
    "              [7, 4, 2]])\n",
    "\n",
    "Y = np.array([[4, 2],\n",
    "              [6, 2],\n",
    "              [4, 2]])\n",
    "\n",
    "print(\"Matrix X:\\n\", X)\n",
    "print(\"Shape of X:\", X.shape)\n",
    "print(\"\\nMatrix Y:\\n\", Y)\n",
    "print(\"Shape of Y:\", Y.shape)\n",
    "\n",
    "try:\n",
    "    # The number of columns in X (3) is equal to the number of rows in Y (3). Therefore, it is possible \n",
    "    result_xy = X @ Y\n",
    "    print(\"Result of X @ Y:\\n\", result_xy)\n",
    "\n",
    "except ValueError as e:\n",
    "    print(f\"Cannot perform X @ Y: {e}\")\n",
    "\n",
    "\n",
    "#Demonstration when it is not possible to multiply matrices\n",
    "z = np.array([[1, 2],\n",
    "            [3, 4]])\n",
    "print(\"\\nMatrix Z:\\n\", z)\n",
    "print(\"Shape of Z:\", z.shape)\n",
    "\n",
    "try:\n",
    "    # The number of columns in X (3) is equal to the number of rows in Z (2). Therefore, it is not possible \n",
    "    result_xz = X @ z\n",
    "    print(\"Result of X @ Z:\\n\", result_xz)\n",
    "except ValueError as e:\n",
    "    print(f\"Cannot perform X @ Z: {e}\")"
   ]
  },
  {
   "cell_type": "markdown",
   "id": "49d78c1b",
   "metadata": {},
   "source": [
    "### Two arrays, x = ([2, -1, -8]) y = ([3, 1, -2]), Find the Shape, Number of dimensions of vector x.\n",
    "         \n",
    "#### Reshape the vector x to a matrix of size (3,1) and determine the number of dimensions after reshaping y to a matrix of (3,1)."
   ]
  },
  {
   "cell_type": "code",
   "execution_count": 7,
   "id": "00a44116",
   "metadata": {},
   "outputs": [
    {
     "name": "stdout",
     "output_type": "stream",
     "text": [
      "Vector x: [ 2 -1 -8]\n",
      "Shape of vector x: (3,)\n",
      "Number of dimensions of vector x: 1\n",
      "\n",
      "Vector x after reshaping to (3,1):\n",
      " [[ 2]\n",
      " [-1]\n",
      " [-8]]\n",
      "Shape of reshaped x: (3, 1)\n",
      "Number of dimensions of reshaped x: 2\n",
      "\n",
      "Vector y after reshaping to (3,1):\n",
      " [[ 3]\n",
      " [ 1]\n",
      " [-2]]\n",
      "Shape of reshaped y: (3, 1)\n",
      "Number of dimensions of reshaped y: 2\n"
     ]
    }
   ],
   "source": [
    "# Define two arrays\n",
    "x = np.array([2, -1, -8])\n",
    "y = np.array([3, 1, -2])\n",
    "\n",
    "print(\"Vector x:\", x)\n",
    "print(\"Shape of vector x:\", x.shape)\n",
    "print(\"Number of dimensions of vector x:\", x.ndim)\n",
    "\n",
    "# Reshape vector x to a matrix of size (3,1)\n",
    "x_reshaped = x.reshape(3, 1)\n",
    "print(\"\\nVector x after reshaping to (3,1):\\n\", x_reshaped)\n",
    "print(\"Shape of reshaped x:\", x_reshaped.shape)\n",
    "print(\"Number of dimensions of reshaped x:\", x_reshaped.ndim)\n",
    "\n",
    "# Reshape vector y to a matrix of size (3,1)\n",
    "y_reshaped = y.reshape(3, 1)\n",
    "print(\"\\nVector y after reshaping to (3,1):\\n\", y_reshaped)\n",
    "print(\"Shape of reshaped y:\", y_reshaped.shape)\n",
    "print(\"Number of dimensions of reshaped y:\", y_reshaped.ndim)"
   ]
  },
  {
   "cell_type": "markdown",
   "id": "11f600d3",
   "metadata": {},
   "source": []
  },
  {
   "cell_type": "markdown",
   "id": "30111b32",
   "metadata": {},
   "source": [
    "#### Demonstration of how does broadcasting work with example of 3 x 3 matrix subtraction and multiplication."
   ]
  },
  {
   "cell_type": "code",
   "execution_count": 8,
   "id": "6ac31df7",
   "metadata": {},
   "outputs": [
    {
     "name": "stdout",
     "output_type": "stream",
     "text": [
      "Original 3x3 Matrix:\n",
      " [[1 2 3]\n",
      " [4 5 6]\n",
      " [7 8 9]]\n",
      "\n",
      "Matrix after subtracting scalar (10):\n",
      " [[-9 -8 -7]\n",
      " [-6 -5 -4]\n",
      " [-3 -2 -1]]\n",
      "\n",
      "Matrix after multiplying by scalar (10):\n",
      " [[10 20 30]\n",
      " [40 50 60]\n",
      " [70 80 90]]\n",
      "\n",
      "Matrix after subtracting row vector ([1, 0, 1]):\n",
      " [[0 2 2]\n",
      " [3 5 5]\n",
      " [6 8 8]]\n",
      "\n",
      "Matrix after multiplying by row vector ([1, 0, 1]):\n",
      " [[1 0 3]\n",
      " [4 0 6]\n",
      " [7 0 9]]\n",
      "\n",
      "Matrix after subtracting column vector ([[1], [2], [3]]):\n",
      " [[0 1 2]\n",
      " [2 3 4]\n",
      " [4 5 6]]\n",
      "\n",
      "Matrix after multiplying by column vector ([[1], [2], [3]]):\n",
      " [[ 1  2  3]\n",
      " [ 8 10 12]\n",
      " [21 24 27]]\n"
     ]
    }
   ],
   "source": [
    "# Create a 3x3 matrix\n",
    "matrix_3x3 = np.array([[1, 2, 3],\n",
    "                       [4, 5, 6],\n",
    "                       [7, 8, 9]])\n",
    "\n",
    "scalar = 10\n",
    "vector_row = np.array([1, 0, 1])\n",
    "vector_col = np.array([[1], [2], [3]])\n",
    "\n",
    "print(\"Original 3x3 Matrix:\\n\", matrix_3x3)\n",
    "\n",
    "# Broadcasting with a scalar (subtraction)\n",
    "subtracted_matrix_scalar = matrix_3x3 - scalar\n",
    "print(\"\\nMatrix after subtracting scalar (10):\\n\", subtracted_matrix_scalar)\n",
    "\n",
    "# Broadcasting with a scalar (multiplication)\n",
    "multiplied_matrix_scalar = matrix_3x3 * scalar\n",
    "print(\"\\nMatrix after multiplying by scalar (10):\\n\", multiplied_matrix_scalar)\n",
    "\n",
    "# Broadcasting with a row vector (subtraction)\n",
    "# The row vector [1, 0, 1] is broadcast across each row of the matrix.\n",
    "subtracted_matrix_row_vector = matrix_3x3 - vector_row\n",
    "print(\"\\nMatrix after subtracting row vector ([1, 0, 1]):\\n\", subtracted_matrix_row_vector)\n",
    "\n",
    "# Broadcasting with a row vector (multiplication)\n",
    "multiplied_matrix_row_vector = matrix_3x3 * vector_row\n",
    "print(\"\\nMatrix after multiplying by row vector ([1, 0, 1]):\\n\", multiplied_matrix_row_vector)\n",
    "\n",
    "# Broadcasting with a column vector (subtraction)\n",
    "# The column vector [[1], [2], [3]] is broadcast across each column of the matrix.\n",
    "subtracted_matrix_col_vector = matrix_3x3 - vector_col\n",
    "print(\"\\nMatrix after subtracting column vector ([[1], [2], [3]]):\\n\", subtracted_matrix_col_vector)\n",
    "\n",
    "# Broadcasting with a column vector (multiplication)\n",
    "multiplied_matrix_col_vector = matrix_3x3 * vector_col\n",
    "print(\"\\nMatrix after multiplying by column vector ([[1], [2], [3]]):\\n\", multiplied_matrix_col_vector)"
   ]
  },
  {
   "cell_type": "markdown",
   "id": "6a6a4a9b",
   "metadata": {},
   "source": [
    "# Overview of Common Graphs\n",
    "\n",
    "## Line Graph  \n",
    "Displays information as a series of data points connected by straight line segments.  \n",
    "\n",
    "## Bar Graph  \n",
    "Presents categorical data with rectangular bars whose heights or lengths are proportional to the values they represent.  \n",
    "\n",
    "## Scatter Plot  \n",
    "Uses Cartesian coordinates to display values for typically two variables for a set of data.  \n",
    "\n",
    "## Histogram  \n",
    "Represents the distribution of numerical data, where the height of the bar indicates the frequency of data points within a given range.  \n",
    "\n",
    "## Pie Chart  \n",
    "A circular statistical graphic, divided into slices to illustrate numerical proportion.  "
   ]
  },
  {
   "cell_type": "markdown",
   "id": "ce4475e4",
   "metadata": {},
   "source": [
    "### Part - B\n",
    "\n",
    "#### determine number of solutions using linear equations"
   ]
  },
  {
   "cell_type": "code",
   "execution_count": 9,
   "id": "096d8a97",
   "metadata": {},
   "outputs": [
    {
     "name": "stdout",
     "output_type": "stream",
     "text": [
      "Least-squares solution (system 1): [ 1.6692112 -1.5826972 -1.8524173]\n",
      "Residuals: []\n",
      "Rank of matrix A: 2\n",
      "Number of variables in system 1: 3\n",
      "System 1 has infinitely many solutions (underdetermined).\n",
      "Least-squares solution (system 1): [ 7.46067416 -4.62921348 -6.17977528]\n",
      "Residuals: []\n",
      "Rank of matrix B: 2\n",
      "System 2 has infinitely many solutions (underdetermined).\n"
     ]
    }
   ],
   "source": [
    "\n",
    "# matrix A and target vector b\n",
    "A1 = np.array([\n",
    "    [2, 3, -4],\n",
    "    [1, -4, 0]\n",
    "])\n",
    "b1 = np.array([6, 8])\n",
    "\n",
    "# Use numpy.linalg.lstsq to find the least-squares solution\n",
    "x_sol1, residuals1, rank1, s1 = np.linalg.lstsq(A1, b1, rcond=None)\n",
    "print(\"Least-squares solution (system 1):\", x_sol1)\n",
    "print(\"Residuals:\", residuals1)\n",
    "print(\"Rank of matrix A:\", rank1)\n",
    "\n",
    "# Number of variables\n",
    "number_vars1 = A1.shape[1]\n",
    "print(\"Number of variables in system 1:\", number_vars1)\n",
    "if rank1 < number_vars1:\n",
    "    print(\"System 1 has infinitely many solutions (underdetermined).\")\n",
    "elif rank1 == number_vars1:\n",
    "    print(\"System 1 has a unique solution.\")\n",
    "else:\n",
    "    print(\"System 1 has no solution.\")\n",
    "\n",
    "# For the second system: 3y1 - 4y2 + 5y3 = 10, -y1 + 2y2 - 4y3 = 8\n",
    "A2 = np.array([\n",
    "    [3, -4, 5],\n",
    "    [-1, 2, -4]\n",
    "])\n",
    "b2 = np.array([10, 8])\n",
    "\n",
    "y_sol2, residuals2, rank2, s2 = np.linalg.lstsq(A2, b2, rcond=None)\n",
    "print(\"Least-squares solution (system 1):\", y_sol2)\n",
    "print(\"Residuals:\", residuals2)\n",
    "print(\"Rank of matrix B:\", rank2)\n",
    "\n",
    "# Number of variables in the second system\n",
    "number_vars2 = A2.shape[1]\n",
    "\n",
    "if rank2 < number_vars2:\n",
    "    print(\"System 2 has infinitely many solutions (underdetermined).\")\n",
    "elif rank2 == number_vars2:\n",
    "    print(\"System 2 has a unique solution.\")\n",
    "else:\n",
    "    print(\"System 2 has no solution.\")"
   ]
  }
 ],
 "metadata": {
  "kernelspec": {
   "display_name": "Python 3",
   "language": "python",
   "name": "python3"
  },
  "language_info": {
   "codemirror_mode": {
    "name": "ipython",
    "version": 3
   },
   "file_extension": ".py",
   "mimetype": "text/x-python",
   "name": "python",
   "nbconvert_exporter": "python",
   "pygments_lexer": "ipython3",
   "version": "3.12.2"
  }
 },
 "nbformat": 4,
 "nbformat_minor": 5
}
